{
  "nbformat": 4,
  "nbformat_minor": 0,
  "metadata": {
    "colab": {
      "provenance": [],
      "authorship_tag": "ABX9TyMHVePtlJqzShyDQ/xR1SNs",
      "include_colab_link": true
    },
    "kernelspec": {
      "name": "python3",
      "display_name": "Python 3"
    },
    "language_info": {
      "name": "python"
    }
  },
  "cells": [
    {
      "cell_type": "markdown",
      "metadata": {
        "id": "view-in-github",
        "colab_type": "text"
      },
      "source": [
        "<a href=\"https://colab.research.google.com/github/aodhanman/Algorithms/blob/main/CA1_CCT.ipynb\" target=\"_parent\"><img src=\"https://colab.research.google.com/assets/colab-badge.svg\" alt=\"Open In Colab\"/></a>"
      ]
    },
    {
      "cell_type": "markdown",
      "source": [
        "Q1 (10 marks)\n",
        "Create a Python program using a for loop that will take a user-supplied list of 5 float numbers as input.\n",
        "Expected Output:\n",
        "[4.69, 57.54, 5.67, 67.09, 54.99]"
      ],
      "metadata": {
        "id": "9FXA0tqe-wzt"
      }
    },
    {
      "cell_type": "code",
      "source": [
        "float_list = []\n",
        "\n",
        "# for loop to get 5 numbers\n",
        "for i in range(5):\n",
        "    try:\n",
        "        user_input = float(input(f\"Enter float number {i+1}: \"))\n",
        "        # ask for input and convert it to a float\n",
        "        float_list.append(user_input)\n",
        "    except ValueError:\n",
        "        print(\" Please enter a valid number\")\n",
        "        i -= 1\n",
        "\n",
        "# Print the float numbers\n",
        "print(float_list)"
      ],
      "metadata": {
        "id": "moYZk6PGBVVS",
        "colab": {
          "base_uri": "https://localhost:8080/"
        },
        "outputId": "e066b59b-3bff-4042-edff-35eb54b18b58"
      },
      "execution_count": 21,
      "outputs": [
        {
          "output_type": "stream",
          "name": "stdout",
          "text": [
            "Enter float number 1: 23f\n",
            " Please enter a valid number\n",
            "Enter float number 2: 234\n",
            "Enter float number 3: 32.4\n",
            "Enter float number 4: 237.9\n",
            "Enter float number 5: ew\n",
            " Please enter a valid number\n",
            "[234.0, 32.4, 237.9]\n"
          ]
        }
      ]
    },
    {
      "cell_type": "markdown",
      "source": [
        "Q2 (10 marks)\n",
        "Write a Python program to take three names as input from a user in the single input() function call and\n",
        "display the concatenation of all three names.\n",
        "Expected Output:\n",
        "Enter three string: CCT1 CCT2 CCT3\n",
        "Name1: CCT1\n",
        "Name2: CCT2\n",
        "Name3: CCT3\n",
        "The concatenation of 3 strings: CCT1CCT2CCT3"
      ],
      "metadata": {
        "id": "VUdWDDJa-3jZ"
      }
    },
    {
      "cell_type": "code",
      "source": [
        "user_input = input(\"Enter three names separated by a space: \")\n",
        "#user inputs names\n",
        "names = user_input.split()\n",
        "#split into names\n",
        "\n",
        "print(f\"Name1: {names[0]}\")\n",
        "print(f\"Name1: {names[1]}\")\n",
        "print(f\"Name1: {names[2]}\")\n",
        " # print names\n",
        "join_names = ''.join(names)\n",
        "\n",
        "print(f\"The concatenation of 3 strings: {join_names}\")\n",
        "\n"
      ],
      "metadata": {
        "colab": {
          "base_uri": "https://localhost:8080/"
        },
        "id": "1Ej1hgHB_If1",
        "outputId": "f43bf73d-b720-4dc0-ea4b-988a55a6aca1"
      },
      "execution_count": 19,
      "outputs": [
        {
          "output_type": "stream",
          "name": "stdout",
          "text": [
            "Enter three names separated by a space: jim jubd bud\n",
            "Name1: jim\n",
            "Name1: jubd\n",
            "Name1: bud\n",
            "The concatenation of 3 strings: jimjubdbud\n"
          ]
        }
      ]
    },
    {
      "cell_type": "markdown",
      "source": [
        "Q3 (10 marks)\n",
        "Writ a python program that finds the smallest number in a list AND the smallest numbers index in the list.\n",
        "The program should only have an output. You may not use the “min” function.\n",
        "The List you must use is 5,8,4,9,6,7,10,15,12\n",
        "Output\n",
        "The smallest number in the list is 4 which is found at index 2"
      ],
      "metadata": {
        "id": "YGZ2D5Tr-9Rs"
      }
    },
    {
      "cell_type": "code",
      "source": [
        "numbers_list = [5,8,4,9,6,7,10,15,12 ]\n",
        "\n",
        "smallest_number = numbers_list[0]\n",
        "smallest_number_index = 0\n",
        "\n",
        "for index, num in enumerate(numbers_list):\n",
        "  if num < smallest_number:\n",
        "    smallest_number = num\n",
        "    smallest_number_index = index\n",
        "\n",
        "    print(f\"The smallest number is  {smallest_number} at {smallest_number_index}\")\n",
        "\n"
      ],
      "metadata": {
        "id": "FSYur-FZ_J68",
        "colab": {
          "base_uri": "https://localhost:8080/"
        },
        "outputId": "9b638da3-b827-48ee-df2e-50283b21977d"
      },
      "execution_count": null,
      "outputs": [
        {
          "output_type": "stream",
          "name": "stdout",
          "text": [
            "The smallest number is  4 at 2\n"
          ]
        }
      ]
    },
    {
      "cell_type": "markdown",
      "source": [
        "Q4 (15 marks)\n",
        "Writ a python program to implement the below algorithm:\n",
        "• Create a NumPy array with 1000 elements and take the mean of every 5 sample window.\n",
        "• [datamean] < -- mean ( [ numpy_array (1 : 5 : end ) ] )\n",
        "• [data]min < -- min ( [ datamean ] )\n",
        "• [data]max < -- max ( [ datamean ] )\n",
        "• [ value ] max < -- max ( abs ( [data]max), abs([ [data]min])"
      ],
      "metadata": {
        "id": "UX1sX9-9-9_T"
      }
    },
    {
      "cell_type": "code",
      "source": [
        "import numpy as np\n",
        "\n",
        "numpy_array = np.random.rand(1000)\n",
        "\n",
        "window_size = 5\n",
        "num_windows = len(numpy_array)"
      ],
      "metadata": {
        "id": "egp5L57I_LU3"
      },
      "execution_count": 16,
      "outputs": []
    },
    {
      "cell_type": "markdown",
      "source": [
        "Q5 (15 marks)\n",
        "\n",
        "Write a Python program with two user-defined functions, where one function accepts a mark in a float\n",
        "using the input() function, and pass this input to another user-defined function that assigns the grades\n",
        "according to the marks.\n",
        "Example: Grade A if marks >=90\n",
        "Grade B if marks >= 70\n",
        "Grade C if marks >= 50\n",
        "Grade D if marks >= 40\n",
        "Grade Fail if marks < 40\n"
      ],
      "metadata": {
        "id": "hvojlwuh_L_K"
      }
    },
    {
      "cell_type": "code",
      "source": [
        "def grading():\n",
        "  try:\n",
        "    score = float(input(\"Enter the student's score: \"))\n",
        "    return score\n",
        "  except ValueError:\n",
        "    print(\"Invalid\")\n",
        "    return None\n",
        "\n",
        "def grade(score):\n",
        "  if score is None:\n",
        "    return \"Invalid Input\"\n",
        "  if score >= 90:\n",
        "    return \"Grade A\"\n",
        "  elif score >= 70:\n",
        "    return \"Grade B\"\n",
        "  elif score >= 50:\n",
        "    return \"Grade C\"\n",
        "  elif score >= 40:\n",
        "    return \"Grade D\"\n",
        "  else:\n",
        "    return \"Grade Fail\"\n",
        "\n",
        "student_score = grading()\n",
        "#get marks from user\n",
        "\n",
        "score = grade(student_score)\n",
        "#get grade from score\n",
        "\n",
        "print(f\"The students grade is {score}\")\n",
        "#print student grade"
      ],
      "metadata": {
        "id": "aZR942Xa_Qd8",
        "colab": {
          "base_uri": "https://localhost:8080/"
        },
        "outputId": "4e9f0ef2-c256-4fe3-9fcc-3b94ca67a9e8"
      },
      "execution_count": 15,
      "outputs": [
        {
          "output_type": "stream",
          "name": "stdout",
          "text": [
            "Enter the student's score: 45\n",
            "The students grade is Grade D\n"
          ]
        }
      ]
    },
    {
      "cell_type": "markdown",
      "source": [
        "Q6 (15 marks)\n",
        "\n",
        "Consider that the below Python program contains some syntax errors. Trace the errors and resolve them.\n",
        "The expected output of this program is:\n",
        "10 + 6 = 16\n",
        "10 - 6 = 4\n",
        "After resolving the errors, write a short note on the interpretation of the code."
      ],
      "metadata": {
        "id": "EPpEA1xj_Q8E"
      }
    },
    {
      "cell_type": "code",
      "source": [
        "class add_sub:\n",
        "    def __init__ (self, x, y):\n",
        "        self.x = x\n",
        "        self.y = y\n",
        "    #define add method\n",
        "    def add(self):\n",
        "      return self.x + self.y\n",
        "    #define 'subtract method\n",
        "    def subtract(self):\n",
        "          return self.x - self.y\n",
        "if __name__ == \"__main__\":\n",
        "    y = 6\n",
        "    x = 10\n",
        "    #create an instance\n",
        "    opp = add_sub(y,x)\n",
        "    print(f'{x} + {y} = {opp.add()}')\n",
        "    #print(opp.add())\n",
        "    #print subtract\n",
        "    print(f'{x} - {y} = {opp.subtract()}')"
      ],
      "metadata": {
        "id": "FgjOZANBesxz",
        "colab": {
          "base_uri": "https://localhost:8080/"
        },
        "outputId": "d245674f-1a03-468c-9011-7f9be3131108"
      },
      "execution_count": 22,
      "outputs": [
        {
          "output_type": "stream",
          "name": "stdout",
          "text": [
            "10 + 6 = 16\n",
            "10 - 6 = -4\n"
          ]
        }
      ]
    },
    {
      "cell_type": "markdown",
      "source": [
        "Q7 (25 marks)\n",
        "\n",
        "Perform exploratory data analysis and data pre-processing on the agricultural production dataset.\n",
        "\n",
        "1. Import the required library packages. (1 marks)\n",
        "2. Read the dataset from pandas. (1 marks)\n",
        "3. Check for the null values and delete the rows if there are fewer than 4000 missing values. (5\n",
        "marks)\n",
        "4. Extract the data where the production value is not equal to zero. (3 marks)\n",
        "5. Since what year the data has been collected? print it in ascending order. (5 marks)\n",
        "6. Print the number of states, union territories (UT), and their names in ascending order. (5\n",
        "marks)\n",
        "7. Write the code to display the state with highest production. (5 marks)\n",
        "Note: In question 6 of the main question 7, the state_name column contains both states and union\n",
        "territories. You need to print the total number and their names in ascending order.\n",
        "\n",
        "The expected output is as follows:\n",
        "\n",
        "Total number of states and UT are 33 and their names ['Andaman and Nicobar Islands',…,]\n",
        "The result of question 7 of the main question 7 does not required any visualisation, just print the result.\n",
        "The expected output is as follows:\n",
        "State_Name xxxx\n",
        "District_Name xxxx\n",
        "Crop_Year xxxx\n",
        "Season xxxx\n",
        "Crop xxxx\n",
        "Area xxxx\n",
        "Production xxxx"
      ],
      "metadata": {
        "id": "n57caQ6S_ZYV"
      }
    },
    {
      "cell_type": "code",
      "source": [
        "from pickle import HIGHEST_PROTOCOL\n",
        "import pandas as pd\n",
        "#import pandas library\n",
        "\n",
        "data = pd.read_csv(\"crop_production.csv\")\n",
        "#Reads the data from CSV\n",
        "\n",
        "\n",
        "data.dropna(thresh= 4000, inplace=True)\n",
        "\n",
        "\n",
        "data = data[data['Production'] != 0]\n",
        "# data where not equal to zero\n",
        "\n",
        "years = sorted(data['Crop_Year'].unique())\n",
        "print(\"Year of data in ascending order:\", years)\n",
        "#Year data was collected in ascending order\n",
        "\n",
        "num_states = data['State_Name'].nunique()\n",
        "state_names = sorted(data['State_Name'].unique())\n",
        "print(f'Num of states {num_states} names {state_names}')\n",
        "\n",
        "\n",
        "# should print state with highest production\n",
        "highest_production = data.groupby('State_Name')['Production'].sum().idxmax()\n",
        "\n",
        "print(f\"Highest production state is {highest_production}\")\n"
      ],
      "metadata": {
        "id": "NiuTJks7DGmK",
        "colab": {
          "base_uri": "https://localhost:8080/",
          "height": 477
        },
        "outputId": "ba20d4bb-077f-4221-e324-4362e464511e"
      },
      "execution_count": 30,
      "outputs": [
        {
          "output_type": "stream",
          "name": "stdout",
          "text": [
            "Year of data in ascending order: []\n",
            "Num of states 0 names []\n"
          ]
        },
        {
          "output_type": "error",
          "ename": "ValueError",
          "evalue": "ignored",
          "traceback": [
            "\u001b[0;31m---------------------------------------------------------------------------\u001b[0m",
            "\u001b[0;31mValueError\u001b[0m                                Traceback (most recent call last)",
            "\u001b[0;32m<ipython-input-30-e756872b9983>\u001b[0m in \u001b[0;36m<cell line: 25>\u001b[0;34m()\u001b[0m\n\u001b[1;32m     23\u001b[0m \u001b[0;34m\u001b[0m\u001b[0m\n\u001b[1;32m     24\u001b[0m \u001b[0;31m# should print state with highest production\u001b[0m\u001b[0;34m\u001b[0m\u001b[0;34m\u001b[0m\u001b[0m\n\u001b[0;32m---> 25\u001b[0;31m \u001b[0mhighest_production\u001b[0m \u001b[0;34m=\u001b[0m \u001b[0mdata\u001b[0m\u001b[0;34m.\u001b[0m\u001b[0mgroupby\u001b[0m\u001b[0;34m(\u001b[0m\u001b[0;34m'State_Name'\u001b[0m\u001b[0;34m)\u001b[0m\u001b[0;34m[\u001b[0m\u001b[0;34m'Production'\u001b[0m\u001b[0;34m]\u001b[0m\u001b[0;34m.\u001b[0m\u001b[0msum\u001b[0m\u001b[0;34m(\u001b[0m\u001b[0;34m)\u001b[0m\u001b[0;34m.\u001b[0m\u001b[0midxmax\u001b[0m\u001b[0;34m(\u001b[0m\u001b[0;34m)\u001b[0m\u001b[0;34m\u001b[0m\u001b[0;34m\u001b[0m\u001b[0m\n\u001b[0m\u001b[1;32m     26\u001b[0m \u001b[0;34m\u001b[0m\u001b[0m\n\u001b[1;32m     27\u001b[0m \u001b[0mprint\u001b[0m\u001b[0;34m(\u001b[0m\u001b[0;34mf\"Highest production state is {highest_production}\"\u001b[0m\u001b[0;34m)\u001b[0m\u001b[0;34m\u001b[0m\u001b[0;34m\u001b[0m\u001b[0m\n",
            "\u001b[0;32m/usr/local/lib/python3.10/dist-packages/pandas/core/series.py\u001b[0m in \u001b[0;36midxmax\u001b[0;34m(self, axis, skipna, *args, **kwargs)\u001b[0m\n\u001b[1;32m   2562\u001b[0m         \u001b[0mnan\u001b[0m\u001b[0;34m\u001b[0m\u001b[0;34m\u001b[0m\u001b[0m\n\u001b[1;32m   2563\u001b[0m         \"\"\"\n\u001b[0;32m-> 2564\u001b[0;31m         \u001b[0mi\u001b[0m \u001b[0;34m=\u001b[0m \u001b[0mself\u001b[0m\u001b[0;34m.\u001b[0m\u001b[0margmax\u001b[0m\u001b[0;34m(\u001b[0m\u001b[0maxis\u001b[0m\u001b[0;34m,\u001b[0m \u001b[0mskipna\u001b[0m\u001b[0;34m,\u001b[0m \u001b[0;34m*\u001b[0m\u001b[0margs\u001b[0m\u001b[0;34m,\u001b[0m \u001b[0;34m**\u001b[0m\u001b[0mkwargs\u001b[0m\u001b[0;34m)\u001b[0m\u001b[0;34m\u001b[0m\u001b[0;34m\u001b[0m\u001b[0m\n\u001b[0m\u001b[1;32m   2565\u001b[0m         \u001b[0;32mif\u001b[0m \u001b[0mi\u001b[0m \u001b[0;34m==\u001b[0m \u001b[0;34m-\u001b[0m\u001b[0;36m1\u001b[0m\u001b[0;34m:\u001b[0m\u001b[0;34m\u001b[0m\u001b[0;34m\u001b[0m\u001b[0m\n\u001b[1;32m   2566\u001b[0m             \u001b[0;32mreturn\u001b[0m \u001b[0mnp\u001b[0m\u001b[0;34m.\u001b[0m\u001b[0mnan\u001b[0m\u001b[0;34m\u001b[0m\u001b[0;34m\u001b[0m\u001b[0m\n",
            "\u001b[0;32m/usr/local/lib/python3.10/dist-packages/pandas/core/base.py\u001b[0m in \u001b[0;36margmax\u001b[0;34m(self, axis, skipna, *args, **kwargs)\u001b[0m\n\u001b[1;32m    653\u001b[0m             \u001b[0;31m# error: Incompatible return value type (got \"Union[int, ndarray]\", expected\u001b[0m\u001b[0;34m\u001b[0m\u001b[0;34m\u001b[0m\u001b[0m\n\u001b[1;32m    654\u001b[0m             \u001b[0;31m# \"int\")\u001b[0m\u001b[0;34m\u001b[0m\u001b[0;34m\u001b[0m\u001b[0m\n\u001b[0;32m--> 655\u001b[0;31m             return nanops.nanargmax(  # type: ignore[return-value]\n\u001b[0m\u001b[1;32m    656\u001b[0m                 \u001b[0mdelegate\u001b[0m\u001b[0;34m,\u001b[0m \u001b[0mskipna\u001b[0m\u001b[0;34m=\u001b[0m\u001b[0mskipna\u001b[0m\u001b[0;34m\u001b[0m\u001b[0;34m\u001b[0m\u001b[0m\n\u001b[1;32m    657\u001b[0m             )\n",
            "\u001b[0;32m/usr/local/lib/python3.10/dist-packages/pandas/core/nanops.py\u001b[0m in \u001b[0;36m_f\u001b[0;34m(*args, **kwargs)\u001b[0m\n\u001b[1;32m     91\u001b[0m             \u001b[0;32mtry\u001b[0m\u001b[0;34m:\u001b[0m\u001b[0;34m\u001b[0m\u001b[0;34m\u001b[0m\u001b[0m\n\u001b[1;32m     92\u001b[0m                 \u001b[0;32mwith\u001b[0m \u001b[0mnp\u001b[0m\u001b[0;34m.\u001b[0m\u001b[0merrstate\u001b[0m\u001b[0;34m(\u001b[0m\u001b[0minvalid\u001b[0m\u001b[0;34m=\u001b[0m\u001b[0;34m\"ignore\"\u001b[0m\u001b[0;34m)\u001b[0m\u001b[0;34m:\u001b[0m\u001b[0;34m\u001b[0m\u001b[0;34m\u001b[0m\u001b[0m\n\u001b[0;32m---> 93\u001b[0;31m                     \u001b[0;32mreturn\u001b[0m \u001b[0mf\u001b[0m\u001b[0;34m(\u001b[0m\u001b[0;34m*\u001b[0m\u001b[0margs\u001b[0m\u001b[0;34m,\u001b[0m \u001b[0;34m**\u001b[0m\u001b[0mkwargs\u001b[0m\u001b[0;34m)\u001b[0m\u001b[0;34m\u001b[0m\u001b[0;34m\u001b[0m\u001b[0m\n\u001b[0m\u001b[1;32m     94\u001b[0m             \u001b[0;32mexcept\u001b[0m \u001b[0mValueError\u001b[0m \u001b[0;32mas\u001b[0m \u001b[0me\u001b[0m\u001b[0;34m:\u001b[0m\u001b[0;34m\u001b[0m\u001b[0;34m\u001b[0m\u001b[0m\n\u001b[1;32m     95\u001b[0m                 \u001b[0;31m# we want to transform an object array\u001b[0m\u001b[0;34m\u001b[0m\u001b[0;34m\u001b[0m\u001b[0m\n",
            "\u001b[0;32m/usr/local/lib/python3.10/dist-packages/pandas/core/nanops.py\u001b[0m in \u001b[0;36mnanargmax\u001b[0;34m(values, axis, skipna, mask)\u001b[0m\n\u001b[1;32m   1102\u001b[0m     \u001b[0mvalues\u001b[0m\u001b[0;34m,\u001b[0m \u001b[0mmask\u001b[0m\u001b[0;34m,\u001b[0m \u001b[0m_\u001b[0m\u001b[0;34m,\u001b[0m \u001b[0m_\u001b[0m\u001b[0;34m,\u001b[0m \u001b[0m_\u001b[0m \u001b[0;34m=\u001b[0m \u001b[0m_get_values\u001b[0m\u001b[0;34m(\u001b[0m\u001b[0mvalues\u001b[0m\u001b[0;34m,\u001b[0m \u001b[0;32mTrue\u001b[0m\u001b[0;34m,\u001b[0m \u001b[0mfill_value_typ\u001b[0m\u001b[0;34m=\u001b[0m\u001b[0;34m\"-inf\"\u001b[0m\u001b[0;34m,\u001b[0m \u001b[0mmask\u001b[0m\u001b[0;34m=\u001b[0m\u001b[0mmask\u001b[0m\u001b[0;34m)\u001b[0m\u001b[0;34m\u001b[0m\u001b[0;34m\u001b[0m\u001b[0m\n\u001b[1;32m   1103\u001b[0m     \u001b[0;31m# error: Need type annotation for 'result'\u001b[0m\u001b[0;34m\u001b[0m\u001b[0;34m\u001b[0m\u001b[0m\n\u001b[0;32m-> 1104\u001b[0;31m     \u001b[0mresult\u001b[0m \u001b[0;34m=\u001b[0m \u001b[0mvalues\u001b[0m\u001b[0;34m.\u001b[0m\u001b[0margmax\u001b[0m\u001b[0;34m(\u001b[0m\u001b[0maxis\u001b[0m\u001b[0;34m)\u001b[0m  \u001b[0;31m# type: ignore[var-annotated]\u001b[0m\u001b[0;34m\u001b[0m\u001b[0;34m\u001b[0m\u001b[0m\n\u001b[0m\u001b[1;32m   1105\u001b[0m     \u001b[0mresult\u001b[0m \u001b[0;34m=\u001b[0m \u001b[0m_maybe_arg_null_out\u001b[0m\u001b[0;34m(\u001b[0m\u001b[0mresult\u001b[0m\u001b[0;34m,\u001b[0m \u001b[0maxis\u001b[0m\u001b[0;34m,\u001b[0m \u001b[0mmask\u001b[0m\u001b[0;34m,\u001b[0m \u001b[0mskipna\u001b[0m\u001b[0;34m)\u001b[0m\u001b[0;34m\u001b[0m\u001b[0;34m\u001b[0m\u001b[0m\n\u001b[1;32m   1106\u001b[0m     \u001b[0;32mreturn\u001b[0m \u001b[0mresult\u001b[0m\u001b[0;34m\u001b[0m\u001b[0;34m\u001b[0m\u001b[0m\n",
            "\u001b[0;31mValueError\u001b[0m: attempt to get argmax of an empty sequence"
          ]
        }
      ]
    },
    {
      "cell_type": "markdown",
      "source": [],
      "metadata": {
        "id": "pqWZ4sZZnmCb"
      }
    }
  ]
}